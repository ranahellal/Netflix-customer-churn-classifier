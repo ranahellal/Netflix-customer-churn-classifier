{
 "cells": [
  {
   "cell_type": "markdown",
   "id": "82f26c0f-c268-4272-a42d-4a0204b7359e",
   "metadata": {},
   "source": [
    "# Predicting customer churn in Netflix [PREPROCESSING]"
   ]
  },
  {
   "cell_type": "markdown",
   "id": "96c4f1c2-5010-4cff-bb42-519dc91b6a30",
   "metadata": {},
   "source": [
    "## Initial Imports"
   ]
  },
  {
   "cell_type": "code",
   "execution_count": 3,
   "id": "0c138a71-3323-43fd-aab9-8cd921112d1b",
   "metadata": {},
   "outputs": [],
   "source": [
    "import numpy as np\n",
    "import pandas as pd\n",
    "import matplotlib.pyplot as plt\n",
    "import seaborn as sns\n",
    "sns.set()"
   ]
  },
  {
   "cell_type": "markdown",
   "id": "6dea7c77-4312-489c-b56e-bfd20310473c",
   "metadata": {},
   "source": [
    "## Load Data"
   ]
  },
  {
   "cell_type": "code",
   "execution_count": 18,
   "id": "af555e31-2707-4fbb-87f5-5866fe0a5cc0",
   "metadata": {},
   "outputs": [
    {
     "data": {
      "text/html": [
       "<div>\n",
       "<style scoped>\n",
       "    .dataframe tbody tr th:only-of-type {\n",
       "        vertical-align: middle;\n",
       "    }\n",
       "\n",
       "    .dataframe tbody tr th {\n",
       "        vertical-align: top;\n",
       "    }\n",
       "\n",
       "    .dataframe thead th {\n",
       "        text-align: right;\n",
       "    }\n",
       "</style>\n",
       "<table border=\"1\" class=\"dataframe\">\n",
       "  <thead>\n",
       "    <tr style=\"text-align: right;\">\n",
       "      <th></th>\n",
       "      <th>customer_id</th>\n",
       "      <th>age</th>\n",
       "      <th>gender</th>\n",
       "      <th>subscription_type</th>\n",
       "      <th>watch_hours</th>\n",
       "      <th>last_login_days</th>\n",
       "      <th>region</th>\n",
       "      <th>device</th>\n",
       "      <th>monthly_fee</th>\n",
       "      <th>churned</th>\n",
       "      <th>payment_method</th>\n",
       "      <th>number_of_profiles</th>\n",
       "      <th>avg_watch_time_per_day</th>\n",
       "      <th>favorite_genre</th>\n",
       "    </tr>\n",
       "  </thead>\n",
       "  <tbody>\n",
       "    <tr>\n",
       "      <th>0</th>\n",
       "      <td>a9b75100-82a8-427a-a208-72f24052884a</td>\n",
       "      <td>51</td>\n",
       "      <td>Other</td>\n",
       "      <td>Basic</td>\n",
       "      <td>14.73</td>\n",
       "      <td>29</td>\n",
       "      <td>Africa</td>\n",
       "      <td>TV</td>\n",
       "      <td>8.99</td>\n",
       "      <td>1</td>\n",
       "      <td>Gift Card</td>\n",
       "      <td>1</td>\n",
       "      <td>0.49</td>\n",
       "      <td>Action</td>\n",
       "    </tr>\n",
       "    <tr>\n",
       "      <th>1</th>\n",
       "      <td>49a5dfd9-7e69-4022-a6ad-0a1b9767fb5b</td>\n",
       "      <td>47</td>\n",
       "      <td>Other</td>\n",
       "      <td>Standard</td>\n",
       "      <td>0.70</td>\n",
       "      <td>19</td>\n",
       "      <td>Europe</td>\n",
       "      <td>Mobile</td>\n",
       "      <td>13.99</td>\n",
       "      <td>1</td>\n",
       "      <td>Gift Card</td>\n",
       "      <td>5</td>\n",
       "      <td>0.03</td>\n",
       "      <td>Sci-Fi</td>\n",
       "    </tr>\n",
       "    <tr>\n",
       "      <th>2</th>\n",
       "      <td>4d71f6ce-fca9-4ff7-8afa-197ac24de14b</td>\n",
       "      <td>27</td>\n",
       "      <td>Female</td>\n",
       "      <td>Standard</td>\n",
       "      <td>16.32</td>\n",
       "      <td>10</td>\n",
       "      <td>Asia</td>\n",
       "      <td>TV</td>\n",
       "      <td>13.99</td>\n",
       "      <td>0</td>\n",
       "      <td>Crypto</td>\n",
       "      <td>2</td>\n",
       "      <td>1.48</td>\n",
       "      <td>Drama</td>\n",
       "    </tr>\n",
       "    <tr>\n",
       "      <th>3</th>\n",
       "      <td>d3c72c38-631b-4f9e-8a0e-de103cad1a7d</td>\n",
       "      <td>53</td>\n",
       "      <td>Other</td>\n",
       "      <td>Premium</td>\n",
       "      <td>4.51</td>\n",
       "      <td>12</td>\n",
       "      <td>Oceania</td>\n",
       "      <td>TV</td>\n",
       "      <td>17.99</td>\n",
       "      <td>1</td>\n",
       "      <td>Crypto</td>\n",
       "      <td>2</td>\n",
       "      <td>0.35</td>\n",
       "      <td>Horror</td>\n",
       "    </tr>\n",
       "    <tr>\n",
       "      <th>4</th>\n",
       "      <td>4e265c34-103a-4dbb-9553-76c9aa47e946</td>\n",
       "      <td>56</td>\n",
       "      <td>Other</td>\n",
       "      <td>Standard</td>\n",
       "      <td>1.89</td>\n",
       "      <td>13</td>\n",
       "      <td>Africa</td>\n",
       "      <td>Mobile</td>\n",
       "      <td>13.99</td>\n",
       "      <td>1</td>\n",
       "      <td>Crypto</td>\n",
       "      <td>2</td>\n",
       "      <td>0.13</td>\n",
       "      <td>Action</td>\n",
       "    </tr>\n",
       "  </tbody>\n",
       "</table>\n",
       "</div>"
      ],
      "text/plain": [
       "                            customer_id  age  gender subscription_type  \\\n",
       "0  a9b75100-82a8-427a-a208-72f24052884a   51   Other             Basic   \n",
       "1  49a5dfd9-7e69-4022-a6ad-0a1b9767fb5b   47   Other          Standard   \n",
       "2  4d71f6ce-fca9-4ff7-8afa-197ac24de14b   27  Female          Standard   \n",
       "3  d3c72c38-631b-4f9e-8a0e-de103cad1a7d   53   Other           Premium   \n",
       "4  4e265c34-103a-4dbb-9553-76c9aa47e946   56   Other          Standard   \n",
       "\n",
       "   watch_hours  last_login_days   region  device  monthly_fee  churned  \\\n",
       "0        14.73               29   Africa      TV         8.99        1   \n",
       "1         0.70               19   Europe  Mobile        13.99        1   \n",
       "2        16.32               10     Asia      TV        13.99        0   \n",
       "3         4.51               12  Oceania      TV        17.99        1   \n",
       "4         1.89               13   Africa  Mobile        13.99        1   \n",
       "\n",
       "  payment_method  number_of_profiles  avg_watch_time_per_day favorite_genre  \n",
       "0      Gift Card                   1                    0.49         Action  \n",
       "1      Gift Card                   5                    0.03         Sci-Fi  \n",
       "2         Crypto                   2                    1.48          Drama  \n",
       "3         Crypto                   2                    0.35         Horror  \n",
       "4         Crypto                   2                    0.13         Action  "
      ]
     },
     "execution_count": 18,
     "metadata": {},
     "output_type": "execute_result"
    }
   ],
   "source": [
    "df = pd.read_csv('C:/Users/RANA/Netflix-customer-churn-classifier/data/netflix_customer_churn.csv')\n",
    "df.head()"
   ]
  },
  {
   "cell_type": "code",
   "execution_count": 20,
   "id": "98ab51fc-97f4-4307-a781-aa18e07c4713",
   "metadata": {},
   "outputs": [
    {
     "name": "stdout",
     "output_type": "stream",
     "text": [
      "<class 'pandas.core.frame.DataFrame'>\n",
      "RangeIndex: 5000 entries, 0 to 4999\n",
      "Data columns (total 14 columns):\n",
      " #   Column                  Non-Null Count  Dtype  \n",
      "---  ------                  --------------  -----  \n",
      " 0   customer_id             5000 non-null   object \n",
      " 1   age                     5000 non-null   int64  \n",
      " 2   gender                  5000 non-null   object \n",
      " 3   subscription_type       5000 non-null   object \n",
      " 4   watch_hours             5000 non-null   float64\n",
      " 5   last_login_days         5000 non-null   int64  \n",
      " 6   region                  5000 non-null   object \n",
      " 7   device                  5000 non-null   object \n",
      " 8   monthly_fee             5000 non-null   float64\n",
      " 9   churned                 5000 non-null   int64  \n",
      " 10  payment_method          5000 non-null   object \n",
      " 11  number_of_profiles      5000 non-null   int64  \n",
      " 12  avg_watch_time_per_day  5000 non-null   float64\n",
      " 13  favorite_genre          5000 non-null   object \n",
      "dtypes: float64(3), int64(4), object(7)\n",
      "memory usage: 547.0+ KB\n"
     ]
    }
   ],
   "source": [
    "df.info()"
   ]
  },
  {
   "cell_type": "code",
   "execution_count": null,
   "id": "7f4a601c-d178-435e-b6a8-cb609e7cf1f8",
   "metadata": {},
   "outputs": [],
   "source": []
  }
 ],
 "metadata": {
  "kernelspec": {
   "display_name": "Python 3 (ipykernel)",
   "language": "python",
   "name": "python3"
  },
  "language_info": {
   "codemirror_mode": {
    "name": "ipython",
    "version": 3
   },
   "file_extension": ".py",
   "mimetype": "text/x-python",
   "name": "python",
   "nbconvert_exporter": "python",
   "pygments_lexer": "ipython3",
   "version": "3.12.4"
  }
 },
 "nbformat": 4,
 "nbformat_minor": 5
}
